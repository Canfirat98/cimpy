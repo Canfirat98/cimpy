{
 "cells": [
  {
   "cell_type": "code",
   "execution_count": 3,
   "metadata": {},
   "outputs": [
    {
     "name": "stderr",
     "output_type": "stream",
     "text": [
      "Module NameType not implemented : 2 times\n",
      "Module Name not implemented : 65 times\n",
      "Missing NameType object with uuid: _d2995e50-380e-4f1b-beca-45ef75624ec5 : 1 times\n",
      "Missing Name object with uuid: _cbd79f33-9050-471d-baf8-330af085808e : 1 times\n",
      "Missing Name object with uuid: _42e42a88-94d6-431c-b0d8-f5ee1e1dc978 : 1 times\n",
      "Missing Name object with uuid: _87bfc15b-493d-4aec-ab02-75febd40a759 : 1 times\n",
      "Missing Name object with uuid: _ab4d5d67-276c-48cd-9ce0-227601ed2c7c : 1 times\n",
      "Referenced CurrentLimit [_32d6d32e-c3f0-43d4-8103-079a15594fc6] object missing. : 16 times\n",
      "Missing Name object with uuid: _ecea3b2d-e6c7-4850-9196-b7eae0d23775 : 1 times\n",
      "Missing Name object with uuid: _99244cd7-53a2-46df-99eb-6db15311a924 : 1 times\n",
      "Missing Name object with uuid: _14e6eb36-73d3-4cd3-8fe9-cd9e62dc50ce : 1 times\n",
      "Missing Name object with uuid: _35ec16e2-c578-4845-8d8a-83c2225be38e : 1 times\n",
      "Missing Name object with uuid: _b2aa8671-23cb-4b49-a3f6-b5be8b50c104 : 1 times\n",
      "Missing Name object with uuid: _5f5233dd-d7ec-4fbf-85f9-7290557ec0d3 : 1 times\n",
      "Missing Name object with uuid: _dc4cc669-af2a-42f9-9dcd-bdbadf5cfb75 : 1 times\n",
      "Missing Name object with uuid: _e10032ed-5c48-47db-bad8-91c80b2f10aa : 1 times\n",
      "Missing Name object with uuid: _ace32512-0a1c-4683-9fbc-6e2c39cc2a3f : 1 times\n",
      "Missing Name object with uuid: _804f450b-6a25-4458-aa13-4345b34523df : 1 times\n",
      "Missing Name object with uuid: _092f89de-0e82-49ab-9209-0f65b5fbdc29 : 1 times\n",
      "Missing Name object with uuid: _194288db-296e-4e91-97e3-cf78db8db04e : 1 times\n",
      "Missing Name object with uuid: _160428fc-6575-486c-a3fe-832fb09a0b43 : 1 times\n",
      "Missing Name object with uuid: _689dec99-3f73-4d5d-b0ad-ae327c2a0244 : 1 times\n",
      "Missing Name object with uuid: _4d10e296-6837-4211-b4db-d56fd0f2d6db : 1 times\n",
      "Missing Name object with uuid: _2fcee2f4-5ec2-4245-b837-5e94dbf4391e : 1 times\n",
      "Missing Name object with uuid: _eceafa25-f29a-40af-ac10-f2ea4bf3f728 : 1 times\n",
      "Missing Name object with uuid: _03a51b37-8384-49a1-80d0-71300f3ec061 : 1 times\n",
      "Missing Name object with uuid: _1b25df43-ef93-489b-8111-8cd41238b2ef : 1 times\n",
      "Missing Name object with uuid: _7eab8462-3f48-4f2d-9364-dfad57f32d4b : 1 times\n",
      "Missing Name object with uuid: _0717225b-10b7-411f-a6e9-ed52228c72da : 1 times\n",
      "Missing Name object with uuid: _b79caded-b000-41f5-8819-3ed537de80d2 : 1 times\n",
      "Missing Name object with uuid: _f69ebe62-bf8f-446d-88fc-bd1bf1fa337a : 1 times\n",
      "Missing Name object with uuid: _a1ffb35b-6a6d-4e74-9cc8-80e8b8df6b08 : 1 times\n",
      "Missing Name object with uuid: _b082f077-9bea-4937-b158-93bd2b2cecdc : 1 times\n",
      "Missing Name object with uuid: _ac8232f1-f3c9-497a-8649-fc90ecd6895d : 1 times\n",
      "Missing Name object with uuid: _fffc0c14-fe5a-4872-88f9-fe7377580fc5 : 1 times\n",
      "Missing Name object with uuid: _a4923a1c-e669-481c-8d52-988c84855376 : 1 times\n",
      "Missing Name object with uuid: _5f58fca6-c9b8-4a48-89a0-5e3b5f09d650 : 1 times\n",
      "Missing Name object with uuid: _cb436e95-45fa-4d84-bed8-b3b8975352ab : 1 times\n",
      "Missing Name object with uuid: _9ee79681-9732-43e7-b91d-dfa89b19eb58 : 1 times\n",
      "Missing Name object with uuid: _2845a305-ad4f-4afd-904c-cd7704c389b3 : 1 times\n",
      "Missing Name object with uuid: _27bb80f8-4acf-4e17-9ff0-8b43ea1ce826 : 1 times\n",
      "Missing Name object with uuid: _647bc1e0-011a-4f15-90c8-c1e6fa58817f : 1 times\n",
      "Missing Name object with uuid: _faa5ae1f-b7e1-4951-a2ce-45e03897f83a : 1 times\n",
      "Missing Name object with uuid: _b7aed28d-2c2d-47dc-9876-3a81bf9d1529 : 1 times\n",
      "Missing Name object with uuid: _af72eba9-7af2-4808-9da4-432ff0849ea7 : 1 times\n",
      "Missing Name object with uuid: _41842f31-4adc-4b71-b50c-fc08a608ea29 : 1 times\n",
      "Missing Name object with uuid: _eb0a39a3-c2e0-41e9-8b68-527b1ef64493 : 1 times\n",
      "Missing Name object with uuid: _5285090f-646b-4562-ac11-cd1e66b4a97e : 1 times\n",
      "Missing Name object with uuid: _bd2862ac-da6e-4fca-89e2-ab793bf46e8a : 1 times\n",
      "Missing Name object with uuid: _0cfb3a99-5ddd-4cca-84d8-4d27bce35f12 : 1 times\n",
      "Missing Name object with uuid: _55cd4b1d-86ca-4dbb-a114-9354f5dc5c04 : 1 times\n",
      "Missing Name object with uuid: _6bdd0483-21e7-4327-90b3-d024b41b8528 : 1 times\n",
      "Missing Name object with uuid: _4881cf2a-f906-402d-a413-8a81215bd614 : 1 times\n",
      "Missing Name object with uuid: _80b08db8-7624-4c3d-abd8-7bcd195a605f : 1 times\n",
      "Missing Name object with uuid: _9d9a632c-94e9-458d-9e17-cceedd7098be : 1 times\n",
      "Missing Name object with uuid: _2afef3f8-920d-43b2-9fbd-74f64b0959bf : 1 times\n",
      "Missing Name object with uuid: _03306aa5-d343-442b-8772-078802df53e8 : 1 times\n",
      "Missing Name object with uuid: _01fbc78e-84af-40b8-95ab-dfcf3229d9af : 1 times\n",
      "Missing Name object with uuid: _c32fc9a9-36d9-4e4b-acf4-45632379377e : 1 times\n",
      "Missing Name object with uuid: _4088ebe7-3c1f-4595-89d5-c630c4433202 : 1 times\n",
      "Missing Name object with uuid: _b0908a9d-ef41-4d5d-b48a-88e7622a6946 : 1 times\n",
      "Missing Name object with uuid: _408c391a-669a-4c14-b542-602673840a7a : 1 times\n",
      "Missing Name object with uuid: _32fc99f8-3df6-4b76-8a77-b2ed42c91de6 : 1 times\n",
      "Missing Name object with uuid: _08968764-bbcb-4f6f-b584-45fb39faf065 : 1 times\n",
      "Missing Name object with uuid: _7f46d992-6ce4-4ff1-b3ae-d94e1ed16610 : 1 times\n",
      "Missing Name object with uuid: _f2078bfb-5199-43ab-8fd8-5b71e17b5389 : 1 times\n",
      "Missing Name object with uuid: _45609fd5-85e4-43c4-94a4-a4ea57953170 : 1 times\n",
      "Missing Name object with uuid: _cd6e35d8-2393-48aa-bb34-dda99137f2f9 : 1 times\n",
      "Missing Name object with uuid: _8adc495a-f580-4773-a65d-795a40ab5fb3 : 1 times\n",
      "Missing NameType object with uuid: _9ab60b89-1c09-4ded-a42f-0ebd0eef8930 : 1 times\n"
     ]
    },
    {
     "name": "stdout",
     "output_type": "stream",
     "text": [
      "CIM object Diagram created : 1 times\n",
      "CIM object DiagramObject created : 71 times\n",
      "CIM object DiagramObjectPoint created : 126 times\n",
      "CIM object BaseVoltage created : 2 times\n",
      "CIM object VoltageLevel created : 15 times\n",
      "CIM object Substation created : 15 times\n",
      "CIM object GeographicalRegion created : 1 times\n",
      "CIM object SubGeographicalRegion created : 1 times\n",
      "CIM object OperationalLimitType created : 2 times\n",
      "CIM object EnergyConsumer created : 18 times\n",
      "CIM object Terminal created : 47 times\n",
      "CIM object ExternalNetworkInjection created : 1 times\n",
      "CIM object ACLineSegment created : 12 times\n",
      "CIM object OperationalLimitSet created : 16 times\n",
      "CIM object CurrentLimit created : 48 times\n",
      "CIM object PowerTransformer created : 2 times\n",
      "CIM object PowerTransformerEnd created : 4 times\n",
      "CIM object SvVoltage created : 15 times\n",
      "CIM object SvPowerFlow created : 18 times\n",
      "CIM object TopologicalNode created : 15 times\n",
      "Created totally 430 CIM objects in 0.0685415267944336s\n"
     ]
    }
   ],
   "source": [
    "import cimpy\n",
    "from cimpy import CIMpyToDPsim\n",
    "from cimpy.cgmes_v2_4_15.Base import short_profile_name\n",
    "from enum import Enum\n",
    "import os\n",
    "from pathlib import Path\n",
    "\n",
    "# define dpsimpy domains\n",
    "class Domain(Enum):\n",
    "    PF = 1\n",
    "    SP = 2\n",
    "    DP = 3\n",
    "    EMT = 4\n",
    "\n",
    "\n",
    "example_dir = Path(os.path.join('../cimpy/examples/sampledata/CIGRE_MV')).resolve()\n",
    "\n",
    "test_files = []\n",
    "for file in example_dir.glob('*.xml'):\n",
    "    test_files.append(str(file.absolute()))\n",
    "\n",
    "imported_result = cimpy.cim_import(test_files, 'cgmes_v2_4_15')\n",
    "\n",
    "#CIMpyToDPsim.CIMpyToDPsim(imported_result, 2)\n"
   ]
  },
  {
   "cell_type": "code",
   "execution_count": 4,
   "metadata": {},
   "outputs": [
    {
     "name": "stdout",
     "output_type": "stream",
     "text": [
      "L12-13\n"
     ]
    }
   ],
   "source": [
    "\n",
    "res = imported_result[\"topology\"]\n",
    "\n",
    "\n",
    "for i in res:\n",
    "    if 'TopologicalNode' in str(type(res[i])):\n",
    "        #print(i,\"is\", res[i].mRID)\n",
    "        #print(str(type(res[i])))\n",
    "        if \"Terminal\" in str(type(res[i])):\n",
    "            print(\"srting here\")\n",
    "        \n",
    "\n",
    "print(res[\"N12\"].Terminal[0].ConductingEquipment.mRID)\n",
    "        #print(i,\"is connected with\", res[i].Terminals[0].TopologicalNode.mRID)"
   ]
  },
  {
   "cell_type": "code",
   "execution_count": 5,
   "metadata": {},
   "outputs": [
    {
     "name": "stdout",
     "output_type": "stream",
     "text": [
      "L12-13\n",
      "TR2\n",
      "Load12-H\n",
      "Load12-I\n"
     ]
    },
    {
     "data": {
      "text/plain": [
       "<cimpy.cgmes_v2_4_15.PowerTransformer.PowerTransformer at 0x7f43661f3370>"
      ]
     },
     "execution_count": 5,
     "metadata": {},
     "output_type": "execute_result"
    }
   ],
   "source": [
    "Terminals = res[\"N12\"].Terminal\n",
    "for terminal in Terminals:\n",
    "    print(terminal.ConductingEquipment.mRID)\n",
    "\n",
    "res[\"TR2\"]"
   ]
  },
  {
   "cell_type": "code",
   "execution_count": 6,
   "metadata": {},
   "outputs": [
    {
     "data": {
      "image/svg+xml": [
       "<?xml version=\"1.0\" encoding=\"UTF-8\" standalone=\"no\"?>\n",
       "<!DOCTYPE svg PUBLIC \"-//W3C//DTD SVG 1.1//EN\"\n",
       " \"http://www.w3.org/Graphics/SVG/1.1/DTD/svg11.dtd\">\n",
       "<!-- Generated by graphviz version 2.44.0 (0)\n",
       " -->\n",
       "<!-- Title: topology Pages: 1 -->\n",
       "<svg width=\"210pt\" height=\"57pt\"\n",
       " viewBox=\"0.00 0.00 209.53 57.02\" xmlns=\"http://www.w3.org/2000/svg\" xmlns:xlink=\"http://www.w3.org/1999/xlink\">\n",
       "<g id=\"graph0\" class=\"graph\" transform=\"scale(1 1) rotate(0) translate(4 53.02)\">\n",
       "<title>topology</title>\n",
       "<polygon fill=\"white\" stroke=\"transparent\" points=\"-4,4 -4,-53.02 205.53,-53.02 205.53,4 -4,4\"/>\n",
       "<!-- Node 1 -->\n",
       "<g id=\"node1\" class=\"node\">\n",
       "<title>Node 1</title>\n",
       "<g id=\"a_node1\"><a xlink:title=\"Node 1\">\n",
       "<ellipse fill=\"red\" stroke=\"black\" cx=\"53.4\" cy=\"-27.71\" rx=\"5.4\" ry=\"5.4\"/>\n",
       "</a>\n",
       "</g>\n",
       "<text text-anchor=\"start\" x=\"0\" y=\"-37.51\" font-family=\"Times-Roman\" font-weight=\"bold\" font-size=\"12.00\">Node 1</text>\n",
       "</g>\n",
       "<!-- Node 2 -->\n",
       "<g id=\"node2\" class=\"node\">\n",
       "<title>Node 2</title>\n",
       "<g id=\"a_node2\"><a xlink:title=\"Node 2\">\n",
       "<ellipse fill=\"red\" stroke=\"black\" cx=\"196.13\" cy=\"-30.62\" rx=\"5.4\" ry=\"5.4\"/>\n",
       "</a>\n",
       "</g>\n",
       "<text text-anchor=\"start\" x=\"142.73\" y=\"-40.42\" font-family=\"Times-Roman\" font-weight=\"bold\" font-size=\"12.00\">Node 2</text>\n",
       "</g>\n",
       "<!-- mRID36 -->\n",
       "<g id=\"node3\" class=\"node\">\n",
       "<title>mRID36</title>\n",
       "<g id=\"a_node3\"><a xlink:title=\"Attributes:&#10;C_parallel: 0.000000&#10;G_parallel: 0.000000&#10;L_series: 0.000000&#10;R_series: 0.000000&#10;base_Voltage: 0.000000&#10;current_vector: (0,0)&#10;(0,0)&#10;i_intf: (0,0)&#10;name: mRID36&#10;p_branch_vector: 0&#10;0&#10;p_inj: 0.000000&#10;q_branch_vector: 0&#10;0&#10;q_inj: 0.000000&#10;right_vector: &#10;uid: mRID36&#10;v_intf: (0,0)\">\n",
       "<path fill=\"transparent\" stroke=\"transparent\" stroke-width=\"2\" d=\"M157,-36C157,-36 93,-36 93,-36 87,-36 81,-30 81,-24 81,-24 81,-12 81,-12 81,-6 87,0 93,0 93,0 157,0 157,0 163,0 169,-6 169,-12 169,-12 169,-24 169,-24 169,-30 163,-36 157,-36\"/>\n",
       "<text text-anchor=\"start\" x=\"98.5\" y=\"-20.4\" font-family=\"Times-Roman\" font-weight=\"bold\" font-size=\"12.00\">mRID36</text>\n",
       "<text text-anchor=\"start\" x=\"89\" y=\"-10\" font-family=\"Times-Roman\" font-size=\"10.00\" fill=\"#474747\">SP::Ph1::PiLine</text>\n",
       "</a>\n",
       "</g>\n",
       "</g>\n",
       "<!-- mRID36&#45;&#45;Node 1 -->\n",
       "<g id=\"edge1\" class=\"edge\">\n",
       "<title>mRID36&#45;&#45;Node 1</title>\n",
       "<path fill=\"none\" stroke=\"black\" d=\"M80.88,-23.99C72.13,-25.17 64.08,-26.26 58.99,-26.96\"/>\n",
       "</g>\n",
       "<!-- mRID36&#45;&#45;Node 2 -->\n",
       "<g id=\"edge2\" class=\"edge\">\n",
       "<title>mRID36&#45;&#45;Node 2</title>\n",
       "<path fill=\"none\" stroke=\"black\" d=\"M169.24,-25.85C177.83,-27.37 185.7,-28.77 190.68,-29.65\"/>\n",
       "</g>\n",
       "</g>\n",
       "</svg>\n"
      ],
      "text/plain": [
       "<dpsimpy.SystemTopology at 0x7f43661ffcf0>"
      ]
     },
     "execution_count": 6,
     "metadata": {},
     "output_type": "execute_result"
    }
   ],
   "source": [
    "mydict = dict()\n",
    "import dpsimpy\n",
    "pi_line = dpsimpy.sp.ph1.PiLine(\"mRID36\", dpsimpy.LogLevel.debug)\n",
    "pi_line.name()\n",
    "mydict[pi_line.name()] = pi_line\n",
    "\n",
    "mydict\n",
    "com_list = list(mydict.values())\n",
    "n1 = dpsimpy.sp.SimNode(\"Node 1\", dpsimpy.PhaseType.Single)\n",
    "n2 = dpsimpy.sp.SimNode(\"Node 2\", dpsimpy.PhaseType.Single)\n",
    "frequency = 60\n",
    "pi_line.connect([n1,n2])\n",
    "nodes = dict()\n",
    "nodes[n1.name()]= n1\n",
    "nodes[n2.name()]= n2\n",
    "node_list = list(nodes.values())\n",
    "system = dpsimpy.SystemTopology(frequency, node_list, com_list)\n",
    "system"
   ]
  },
  {
   "cell_type": "code",
   "execution_count": 7,
   "metadata": {},
   "outputs": [
    {
     "name": "stdout",
     "output_type": "stream",
     "text": [
      "Attribute list for object with name mRID36_T1:\n",
      "name                          type                size           value                         \n",
      "-----------------------------------------------------------------------------------------------\n",
      "name                          String                             \"mRID36_T1\"                   \n",
      "uid                           String                             \"mRID36_T1\"                   \n",
      "\n"
     ]
    }
   ],
   "source": [
    "\n",
    "n = dpsimpy.sp.ph1.PiLine.get_terminal(pi_line,1).print_attribute_list()\n",
    "\n",
    "#dpsimpy.SimTerminalComplex.print_attribute_list"
   ]
  },
  {
   "cell_type": "code",
   "execution_count": 8,
   "metadata": {},
   "outputs": [
    {
     "data": {
      "text/plain": [
       "'\\npi_line = dpsimpy_components.PiLine(res[i].mRID, dpsimpy.LogLevel.debug)\\nConnection_Nodes = []\\nfor terminal in res[i].Terminals:\\n    node = Nodes[terminal.TopologicalNode.mRID]\\n    Connection_Nodes.append(node)\\npi_line.connect(Connection_Nodes)\\n'"
      ]
     },
     "execution_count": 8,
     "metadata": {},
     "output_type": "execute_result"
    }
   ],
   "source": [
    "'''\n",
    "pi_line = dpsimpy_components.PiLine(res[i].mRID, dpsimpy.LogLevel.debug)\n",
    "Connection_Nodes = []\n",
    "for terminal in res[i].Terminals:\n",
    "    node = Nodes[terminal.TopologicalNode.mRID]\n",
    "    Connection_Nodes.append(node)\n",
    "pi_line.connect(Connection_Nodes)\n",
    "'''"
   ]
  },
  {
   "cell_type": "code",
   "execution_count": null,
   "metadata": {},
   "outputs": [],
   "source": []
  }
 ],
 "metadata": {
  "kernelspec": {
   "display_name": "Python 3",
   "language": "python",
   "name": "python3"
  },
  "language_info": {
   "codemirror_mode": {
    "name": "ipython",
    "version": 3
   },
   "file_extension": ".py",
   "mimetype": "text/x-python",
   "name": "python",
   "nbconvert_exporter": "python",
   "pygments_lexer": "ipython3",
   "version": "3.9.13"
  },
  "orig_nbformat": 4
 },
 "nbformat": 4,
 "nbformat_minor": 2
}
