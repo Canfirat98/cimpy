{
 "cells": [
  {
   "cell_type": "code",
   "execution_count": null,
   "metadata": {},
   "outputs": [],
   "source": [
    "import logging\n",
    "import cimpy\n",
    "from cimpy.cgmes_v2_4_15.Base import short_profile_name\n",
    "import os\n",
    "import glob\n",
    "import pytest_check as check\n",
    "import pickle\n",
    "from pathlib import Path\n",
    "\n",
    "logging.basicConfig(filename='Test_import.log',\n",
    "                    level=logging.INFO, filemode='w')\n",
    "\n",
    "example_dir = Path(os.path.join('../cimpy/examples/sampledata/CIGRE_MV')).resolve()"
   ]
  },
  {
   "cell_type": "code",
   "execution_count": null,
   "metadata": {},
   "outputs": [],
   "source": [
    "test_files = []\n",
    "for file in example_dir.glob('*.xml'):\n",
    "    test_files.append(str(file.absolute()))\n",
    "\n",
    "imported_result = cimpy.cim_import(test_files, 'cgmes_v2_4_15')\n",
    "imported_result\n",
    "#import_resolved = cimpy.cimexport._get_class_attributes_with_references(\n",
    "#    imported_result, 'cgmes_v2_4_15')\n",
    "\n",
    "#ref_dict_path = Path('./CIGREMV_import_reference_cgmes_v2_4_15.p')\n",
    "#check_dict_pickle = pickle.load(open(ref_dict_path, 'rb'))\n",
    "\n",
    "#for elem in import_resolved:\n",
    "#    check.is_in(elem, check_dict_pickle)"
   ]
  },
  {
   "cell_type": "code",
   "execution_count": null,
   "metadata": {},
   "outputs": [],
   "source": [
    "imported_result"
   ]
  },
  {
   "cell_type": "code",
   "execution_count": null,
   "metadata": {},
   "outputs": [],
   "source": [
    "res = imported_result['topology']\n",
    "print(res[\"L1-2\"])"
   ]
  },
  {
   "cell_type": "code",
   "execution_count": null,
   "metadata": {},
   "outputs": [],
   "source": [
    "res = imported_result['topology']\n",
    "\n",
    "BVTN = res[\"L1-2\"].BaseVoltage.TopologicalNode\n",
    "for tn in BVTN:\n",
    "    print(\"ACLineSegment with mRID L12-13 is connected with Node:\",tn.mRID)\n",
    "\n",
    "print(res[\"N1\"].Terminal[0].ConductingEquipment.mRID, \"is\",str(type(res[\"N1\"].Terminal[0].ConductingEquipment)))"
   ]
  },
  {
   "cell_type": "code",
   "execution_count": 3,
   "metadata": {},
   "outputs": [
    {
     "name": "stderr",
     "output_type": "stream",
     "text": [
      "All possible export profiles for attribute Terminal.ConductingEquipment of class Terminal not active. Skip attribute for export.\n",
      "All possible export profiles for class SvPowerFlow not active. Skip class for export.\n"
     ]
    },
    {
     "name": "stdout",
     "output_type": "stream",
     "text": [
      "{'IdentifiedObject': {'class': [7, 0, 1, 3, 5, 4, 2, 8, 9], 'DiagramObjects': [7], 'mRID': [7, 0, 1, 3, 5, 4, 2, 8, 9], 'name': [7, 0, 1, 3, 5, 4, 2, 8, 9], 'description': [0, 4, 2, 8, 9], 'energyIdentCodeEic': [0, 2, 8, 9], 'shortName': [0, 2, 8, 9]}, 'TopologicalNode': {'class': [3, 2, 8], 'SvInjection': [3], 'SvVoltage': [3], 'AngleRefTopologicalIsland': [3], 'TopologicalIsland': [3], 'BaseVoltage': [2, 8], 'ConnectivityNodes': [2, 8], 'ConnectivityNodeContainer': [2, 8], 'ReportingGroup': [2], 'Terminal': [2], 'boundaryPoint': [8], 'fromEndIsoCode': [8], 'fromEndName': [8], 'fromEndNameTso': [8], 'toEndIsoCode': [8], 'toEndName': [8], 'toEndNameTso': [8]}}\n",
      "{'IdentifiedObject': {'class': [7, 0, 1, 3, 5, 4, 2, 8, 9], 'DiagramObjects': [7], 'mRID': [7, 0, 1, 3, 5, 4, 2, 8, 9], 'name': [7, 0, 1, 3, 5, 4, 2, 8, 9], 'description': [0, 4, 2, 8, 9], 'energyIdentCodeEic': [0, 2, 8, 9], 'shortName': [0, 2, 8, 9]}, 'TopologicalNode': {'class': [2, 3, 8], 'SvInjection': [3], 'SvVoltage': [3], 'AngleRefTopologicalIsland': [3], 'TopologicalIsland': [3], 'BaseVoltage': [2, 8], 'ConnectivityNodes': [2, 8], 'ConnectivityNodeContainer': [2, 8], 'ReportingGroup': [2], 'Terminal': [2], 'boundaryPoint': [8], 'fromEndIsoCode': [8], 'fromEndName': [8], 'fromEndNameTso': [8], 'toEndIsoCode': [8], 'toEndName': [8], 'toEndNameTso': [8]}}\n",
      "Profile.TP\n",
      "[<Profile.TP: 2>]\n",
      "{'IdentifiedObject': {'class': [7, 0, 1, 3, 5, 4, 2, 8, 9], 'DiagramObjects': [7], 'mRID': [7, 0, 1, 3, 5, 4, 2, 8, 9], 'name': [7, 0, 1, 3, 5, 4, 2, 8, 9], 'description': [0, 4, 2, 8, 9], 'energyIdentCodeEic': [0, 2, 8, 9], 'shortName': [0, 2, 8, 9]}, 'ACDCTerminal': {'class': [0, 1, 3, 4, 2], 'BusNameMarker': [0], 'sequenceNumber': [0], 'OperationalLimitSet': [0], 'Measurements': [0], 'connected': [1]}, 'Terminal': {'class': [0, 1, 3, 4, 2, 9], 'ConverterDCSides': [0], 'ConductingEquipment': [0, 4, 9], 'phases': [0], 'RegulatingControl': [0], 'TieFlow': [0], 'TransformerEnd': [0], 'ConnectivityNode': [0], 'HasFirstMutualCoupling': [0], 'HasSecondMutualCoupling': [0], 'SvPowerFlow': [3], 'RemoteInputSignal': [4], 'TopologicalNode': [2]}}\n",
      "{'IdentifiedObject': {'class': [7, 0, 1, 3, 5, 4, 2, 8, 9], 'DiagramObjects': [7], 'mRID': [7, 0, 1, 3, 5, 4, 2, 8, 9], 'name': [7, 0, 1, 3, 5, 4, 2, 8, 9], 'description': [0, 4, 2, 8, 9], 'energyIdentCodeEic': [0, 2, 8, 9], 'shortName': [0, 2, 8, 9]}, 'ACDCTerminal': {'class': [0, 1, 3, 4, 2], 'BusNameMarker': [0], 'sequenceNumber': [0], 'OperationalLimitSet': [0], 'Measurements': [0], 'connected': [1]}, 'Terminal': {'class': [0, 1, 2, 3, 4, 9], 'ConverterDCSides': [0], 'ConductingEquipment': [0, 4, 9], 'phases': [0], 'RegulatingControl': [0], 'TieFlow': [0], 'TransformerEnd': [0], 'ConnectivityNode': [0], 'HasFirstMutualCoupling': [0], 'HasSecondMutualCoupling': [0], 'SvPowerFlow': [3], 'RemoteInputSignal': [4], 'TopologicalNode': [2]}}\n",
      "Profile.EQ\n",
      "[<Profile.TP: 2>]\n",
      "Profile.SSH\n",
      "[<Profile.TP: 2>]\n",
      "Profile.TP\n",
      "[<Profile.TP: 2>]\n",
      "{'SvPowerFlow': {'class': [3], 'Terminal': [3], 'p': [3], 'q': [3]}}\n",
      "{'SvPowerFlow': {'class': [3], 'Terminal': [3], 'p': [3], 'q': [3]}}\n",
      "Profile.SV\n",
      "[<Profile.TP: 2>]\n"
     ]
    }
   ],
   "source": [
    "import logging\n",
    "from cimpy import *\n",
    "from cimpy.cgmes_v2_4_15.Base import short_profile_name\n",
    "import os\n",
    "import glob\n",
    "import pytest_check as check\n",
    "import pickle\n",
    "from pathlib import Path\n",
    "\n",
    "res = {'meta_info': {\n",
    "  'namespaces': {},            \n",
    "  'urls': {}, \n",
    "  'author': 'DPsim'},\n",
    " 'topology': {}\n",
    "}\n",
    "from cimpy import utils\n",
    "from cimpy.cgmes_v2_4_15 import BaseVoltage\n",
    "\n",
    "B1 = BaseVoltage(mRID=\"test\")\n",
    "res = utils.add_TopologicalNode(res, \"cgmes_v2_4_15\", B1, \"test_node36\")\n",
    "res = utils.add_EnergyConsumer(res, \"cgmes_v2_4_15\",\"test_node36\", 100, 100, BaseVoltage= None)\n",
    "\n",
    "import_resolved = cimpy.cimexport._get_class_attributes_with_references(\n",
    "    res, 'cgmes_v2_4_15')\n",
    "activeProfileList = ['TP', 'SV', 'EQ']\n",
    "cimpy.cim_export(res, 'test5daadasdassdassddasdasasddadasdasddddasdasdsaasdasdaasdass2653asfasf5', 'cgmes_v2_4_15', activeProfileList)"
   ]
  },
  {
   "cell_type": "code",
   "execution_count": null,
   "metadata": {},
   "outputs": [],
   "source": [
    "cimpy.cim_import.short_package_name[\"TP\"]"
   ]
  },
  {
   "cell_type": "code",
   "execution_count": null,
   "metadata": {},
   "outputs": [],
   "source": [
    "res"
   ]
  },
  {
   "cell_type": "code",
   "execution_count": null,
   "metadata": {},
   "outputs": [],
   "source": [
    "cimpy.cimexport."
   ]
  },
  {
   "cell_type": "code",
   "execution_count": null,
   "metadata": {},
   "outputs": [],
   "source": [
    "imported_result"
   ]
  },
  {
   "attachments": {},
   "cell_type": "markdown",
   "metadata": {},
   "source": [
    "### Test create new topology"
   ]
  },
  {
   "cell_type": "code",
   "execution_count": null,
   "metadata": {},
   "outputs": [],
   "source": [
    "new_topology"
   ]
  },
  {
   "cell_type": "code",
   "execution_count": null,
   "metadata": {},
   "outputs": [],
   "source": [
    "from cimpy import utils\n",
    "from cimpy.cgmes_v2_4_15 import BaseVoltage\n",
    "\n",
    "new_topology = {}\n",
    "new_topology['meta_info']={}\n",
    "new_topology['meta_info']['namespaces']={}\n",
    "new_topology['meta_info']['urls']={}\n",
    "new_topology['topology']={}\n",
    "B1 = BaseVoltage()\n",
    "new_topology= utils.add_TopologicalNode(new_topology, \"cgmes_v2_4_15\", B1, \"test_node36\")\n",
    "\n",
    "  \n",
    "activeProfileList = ['TP']\n",
    "cimpy.cim_export(new_topology, 'new_topology552165100', 'cgmes_v2_4_15', activeProfileList)"
   ]
  },
  {
   "cell_type": "code",
   "execution_count": null,
   "metadata": {},
   "outputs": [],
   "source": []
  },
  {
   "cell_type": "code",
   "execution_count": null,
   "metadata": {},
   "outputs": [],
   "source": []
  },
  {
   "cell_type": "code",
   "execution_count": null,
   "metadata": {},
   "outputs": [],
   "source": [
    "print(str(type(res[\"N6\"])))\n",
    "\n",
    "from cimpy.cgmes_v2_4_15 import TopologicalNode\n",
    "\n",
    "TP1 = TopologicalNode()\n",
    "print(str(res))\n",
    "\n",
    "print(str(type(res[\"L12-13\"])))\n",
    "\n",
    "print(str(type(imported_result)))\n",
    "res[\"L12-13\"].BaseVoltage.TopologicalNode\n",
    "\n"
   ]
  },
  {
   "cell_type": "code",
   "execution_count": null,
   "metadata": {},
   "outputs": [],
   "source": [
    "print(imported_result.keys())"
   ]
  },
  {
   "cell_type": "code",
   "execution_count": null,
   "metadata": {},
   "outputs": [],
   "source": [
    "print(imported_result[\"topology\"][\"test_node36\"])\n"
   ]
  },
  {
   "cell_type": "code",
   "execution_count": null,
   "metadata": {},
   "outputs": [],
   "source": [
    "import importlib\n",
    "\n",
    "module_name = \"cimpy.\" + \"cgmes_v2_4_15\" + \".\"\n",
    "\n",
    "terminal_module = importlib.import_module((module_name + 'Terminal'))\n",
    "terminal_class = getattr(terminal_module, 'Terminal')\n",
    "\n",
    "TM1= terminal_class()\n",
    "#print(TM1)\n",
    "TM2= terminal_class(mRID= \"TM2\")\n",
    "print(terminal_class)"
   ]
  },
  {
   "cell_type": "code",
   "execution_count": null,
   "metadata": {},
   "outputs": [],
   "source": [
    "network = dict(meta_info={}, topology={})\n",
    "\n",
    "from cimpy import utils\n",
    "from cimpy.cgmes_v2_4_15 import BaseVoltage\n",
    "\n",
    "B1 = BaseVoltage()\n",
    "\n",
    "network= utils.add_TopologicalNode(network, \"cgmes_v2_4_15\", B1, \"Node1\")\n",
    "network= utils.add_TopologicalNode(network, \"cgmes_v2_4_15\", B1, \"Node2\")\n",
    "\n",
    "network= utils.add_ACLineSegment(network, \"cgmes_v2_4_15\", \"Node1\", \"Node2\", 0,0,0,0)\n",
    "network= utils.add_ACLineSegment(network, \"cgmes_v2_4_15\", \"Node1\", \"Node2\", 0,0,0,0)\n",
    "\n",
    "list(network[\"topology\"].keys()).count(\"ACLineSegment\")\n",
    "network\n",
    "\n"
   ]
  },
  {
   "attachments": {},
   "cell_type": "markdown",
   "metadata": {},
   "source": []
  },
  {
   "cell_type": "code",
   "execution_count": null,
   "metadata": {},
   "outputs": [],
   "source": []
  },
  {
   "cell_type": "code",
   "execution_count": null,
   "metadata": {},
   "outputs": [],
   "source": []
  },
  {
   "cell_type": "code",
   "execution_count": null,
   "metadata": {},
   "outputs": [],
   "source": []
  },
  {
   "cell_type": "code",
   "execution_count": null,
   "metadata": {},
   "outputs": [],
   "source": []
  }
 ],
 "metadata": {
  "kernelspec": {
   "display_name": "Python 3",
   "language": "python",
   "name": "python3"
  },
  "language_info": {
   "codemirror_mode": {
    "name": "ipython",
    "version": 3
   },
   "file_extension": ".py",
   "mimetype": "text/x-python",
   "name": "python",
   "nbconvert_exporter": "python",
   "pygments_lexer": "ipython3",
   "version": "3.9.13"
  },
  "orig_nbformat": 4
 },
 "nbformat": 4,
 "nbformat_minor": 2
}
